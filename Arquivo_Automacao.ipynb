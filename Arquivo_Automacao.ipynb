{
 "cells": [
  {
   "cell_type": "markdown",
   "metadata": {
    "id": "Fi84DM-YT5FI"
   },
   "source": [
    "# Automação de Sistemas e Processos com Python\n",
    "\n",
    "### Desafio:\n",
    "\n",
    "Todos os dias, o nosso sistema atualiza as vendas do dia anterior.\n",
    "O seu trabalho diário, como analista, é enviar um e-mail para a diretoria, assim que começar a trabalhar, com o faturamento e a quantidade de produtos vendidos no dia anterior\n",
    "\n",
    "E-mail da diretoria: seugmail+diretoria@gmail.com<br>\n",
    "Local onde o sistema disponibiliza as vendas do dia anterior: https://drive.google.com/drive/folders/149xknr9JvrlEnhNWO49zPcw0PW5icxga?usp=sharing\n",
    "\n",
    "Para resolver isso, vamos usar o pyautogui, uma biblioteca de automação de comandos do mouse e do teclado"
   ]
  },
  {
   "cell_type": "code",
   "execution_count": 10,
   "metadata": {
    "id": "V0QCbz1RT5FN"
   },
   "outputs": [],
   "source": [
    "import pyautogui, pyperclip, time\n",
    "\n",
    "pyautogui.PAUSE = 0.8\n",
    "\n",
    "# Passo 1: Entrar no sistema (entrar no link)\n",
    "\n",
    "#pyautogui.press('win') # comandos para abrir o navegador\n",
    "#pyautogui.white('chrome')\n",
    "#pyautogui.press('enter')\n",
    "time.sleep(4)\n",
    "pyautogui.hotkey('ctrl', 't') # abre uma nova guia\n",
    "pyperclip.copy('https://drive.google.com/drive/folders/149xknr9JvrlEnhNWO49zPcw0PW5icxga?usp=sharing') # copia o link\n",
    "pyautogui.hotkey('ctrl', 'v') # cola o link\n",
    "pyautogui.press('enter') # entra no link\n",
    "\n",
    "# site carregando\n",
    "time.sleep(3)\n",
    "\n",
    "# Passo 2: Navegar no sistema e encontrar a base de dados (entrar na pasta Exportar)\n",
    "pyautogui.click(x=2283, y=361, clicks=2) # entra na pasta\n",
    "time.sleep(2)\n",
    "\n",
    "# Passo 3: Download da base de dados\n",
    "pyautogui.click(x=2288, y=429) # clicou no arquivo\n",
    "pyautogui.click(x=3691, y=194) # clicou nos 3 pontinhos\n",
    "pyautogui.click(x=3495, y=624) # baixou o arquivo\n",
    "time.sleep(5)\n",
    "pyautogui.press('enter') # confirmou dowload para salvar no pc\n",
    "time.sleep(5)\n"
   ]
  },
  {
   "cell_type": "markdown",
   "metadata": {
    "id": "tz_mEhMnT5FO"
   },
   "source": [
    "### Vamos agora ler o arquivo baixado para pegar os indicadores\n",
    "\n",
    "- Faturamento\n",
    "- Quantidade de Produtos"
   ]
  },
  {
   "cell_type": "code",
   "execution_count": null,
   "metadata": {
    "id": "x6-rFYaGT5FP",
    "scrolled": true
   },
   "outputs": [],
   "source": [
    "# Passo 4: Calcular os indicadores (faturamento, quantidade de produtos)\n",
    "import pandas as pd\n",
    "\n",
    "tabela = pd.read_excel(r'C:\\Users\\victo\\Downloads\\Vendas - Dez.xlsx')\n",
    "display(tabela)\n",
    "faturamento = tabela[\"Valor Final\"].sum()\n",
    "quantidade = tabela[\"Quantidade\"].sum()"
   ]
  },
  {
   "cell_type": "markdown",
   "metadata": {
    "id": "7eq1BxJXT5FQ"
   },
   "source": [
    "### Vamos agora enviar um e-mail pelo gmail"
   ]
  },
  {
   "cell_type": "code",
   "execution_count": 12,
   "metadata": {
    "id": "wboJkE_TT5FQ"
   },
   "outputs": [],
   "source": [
    "# Passo 5: Entrar no e-mail\n",
    "pyautogui.hotkey('ctrl', 't') # abre uma nova guia\n",
    "pyperclip.copy('https://mail.google.com/mail/u/0/?tab=rm&ogbl#inbox') # copia o link\n",
    "pyautogui.hotkey('ctrl', 'v') # cola o link\n",
    "pyautogui.press('enter') # entra no link\n",
    "time.sleep(7)\n",
    "\n",
    "# clicar no botão +\n",
    "pyautogui.click(x=1973, y=241)\n",
    "time.sleep(2)\n",
    "\n",
    "# escrever destinatário\n",
    "pyautogui.write('victorjv3288@gmail.com')\n",
    "pyautogui.press('tab') # seleciona o e-mail\n",
    "pyautogui.press('tab') # passar pro campo de assunto\n",
    "\n",
    "# assunto\n",
    "pyperclip.copy('Automação - Relatório de Vendas')\n",
    "pyautogui.hotkey('ctrl', 'v')\n",
    "pyautogui.press('tab') #passar pro campo do e-mail\n",
    "\n",
    "# corpo do e-mail\n",
    "texto = f'''Prezados, bom dia!\n",
    "\n",
    "O faturamento de ontem foi de R$ {faturamento:.2f}\n",
    "A quantidade de produtos foi de R$ {quantidade:.2f}\n",
    "\n",
    "atenciosamente,\n",
    "João\n",
    "'''\n",
    "pyperclip.copy(texto)\n",
    "pyautogui.hotkey('ctrl', 'v')\n",
    "# anexo\n",
    "# enviar\n",
    "pyautogui.hotkey('ctrl', 'enter')\n",
    "\n",
    "# Passo 6: Mandar um e-mail para a diretoria com os indicadores"
   ]
  },
  {
   "cell_type": "markdown",
   "metadata": {
    "id": "xkXsmJFcT5FR"
   },
   "source": [
    "#### Use esse código para descobrir qual a posição de um item que queira clicar\n",
    "\n",
    "- Lembre-se: a posição na sua tela é diferente da posição na minha tela"
   ]
  },
  {
   "cell_type": "code",
   "execution_count": null,
   "metadata": {
    "id": "ysjKJ76pT5FS"
   },
   "outputs": [],
   "source": [
    "# time.sleep(5)\n",
    "# pyautogui.position()"
   ]
  }
 ],
 "metadata": {
  "colab": {
   "name": "Arquivo Inicial - Aula 1.ipynb",
   "provenance": []
  },
  "kernelspec": {
   "display_name": "Python 3.10.5 64-bit (windows store)",
   "language": "python",
   "name": "python3"
  },
  "language_info": {
   "codemirror_mode": {
    "name": "ipython",
    "version": 3
   },
   "file_extension": ".py",
   "mimetype": "text/x-python",
   "name": "python",
   "nbconvert_exporter": "python",
   "pygments_lexer": "ipython3",
   "version": "3.10.5"
  },
  "vscode": {
   "interpreter": {
    "hash": "a141e979f47d0321f552a3a7e629b4f252c2696d405db34dd45befa51abe3df3"
   }
  }
 },
 "nbformat": 4,
 "nbformat_minor": 1
}
